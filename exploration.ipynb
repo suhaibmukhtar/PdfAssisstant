{
 "cells": [
  {
   "cell_type": "code",
   "execution_count": 1,
   "id": "15b3e47a",
   "metadata": {},
   "outputs": [],
   "source": [
    "import os"
   ]
  },
  {
   "cell_type": "code",
   "execution_count": 6,
   "id": "6e05696f",
   "metadata": {},
   "outputs": [
    {
     "data": {
      "text/plain": [
       "['config.py', '__init__.py']"
      ]
     },
     "execution_count": 6,
     "metadata": {},
     "output_type": "execute_result"
    }
   ],
   "source": [
    "os.listdir('/llms/PdfAssisstant/src/config')"
   ]
  },
  {
   "cell_type": "code",
   "execution_count": null,
   "id": "d7b55613",
   "metadata": {},
   "outputs": [],
   "source": []
  }
 ],
 "metadata": {
  "kernelspec": {
   "display_name": "Python 3",
   "language": "python",
   "name": "python3"
  },
  "language_info": {
   "codemirror_mode": {
    "name": "ipython",
    "version": 3
   },
   "file_extension": ".py",
   "mimetype": "text/x-python",
   "name": "python",
   "nbconvert_exporter": "python",
   "pygments_lexer": "ipython3",
   "version": "3.11.11"
  }
 },
 "nbformat": 4,
 "nbformat_minor": 5
}
